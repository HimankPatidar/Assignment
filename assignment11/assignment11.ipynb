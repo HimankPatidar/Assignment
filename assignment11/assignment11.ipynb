{
 "cells": [
  {
   "cell_type": "markdown",
   "metadata": {},
   "source": [
    "Create a numpy array with filling random values, and shape of array\n",
    "should be (12,5), after that manipulate the value of last row.\n",
    "For e.g. let’s consider this is your last row [41,52,63,96,85], you will\n",
    "update this line like this [1,2,3,4,5]"
   ]
  },
  {
   "cell_type": "code",
   "execution_count": 1,
   "metadata": {
    "metadata": {}
   },
   "outputs": [],
   "source": [
    "import numpy as np\n"
   ]
  },
  {
   "cell_type": "code",
   "execution_count": 26,
   "metadata": {
    "metadata": {}
   },
   "outputs": [
    {
     "name": "stdout",
     "output_type": "stream",
     "text": [
      "Array without change : \n",
      " [[45 55 25 10 84]\n",
      " [55 86  9 95 14]\n",
      " [25 23 55 72 74]\n",
      " [30 71 50 83 46]\n",
      " [74 28 36 41 44]\n",
      " [96 52 23 89 61]\n",
      " [30 44 60 84 32]\n",
      " [51 33 61 90 87]\n",
      " [42 34  8 81 14]\n",
      " [66 65 29 66 58]\n",
      " [77 80 84 50 71]\n",
      " [ 6 26 34 61 82]]\n",
      "\n",
      "\n",
      "Array after change last row \n",
      " [[45 55 25 10 84]\n",
      " [55 86  9 95 14]\n",
      " [25 23 55 72 74]\n",
      " [30 71 50 83 46]\n",
      " [74 28 36 41 44]\n",
      " [96 52 23 89 61]\n",
      " [30 44 60 84 32]\n",
      " [51 33 61 90 87]\n",
      " [42 34  8 81 14]\n",
      " [66 65 29 66 58]\n",
      " [77 80 84 50 71]\n",
      " [ 1  2  3  4  5]]\n"
     ]
    }
   ],
   "source": [
    "\n",
    "arr = np.random.randint(1, 100, 60).reshape(12,5)\n",
    "print(\"Array without change : \\n\" ,arr)\n",
    "print(\"\\n\")\n",
    "\n",
    "new_values_str = input(\"Enter 5 values separated by spaces for the last row: \")\n",
    "new_values = list(map(int, new_values_str.split()))\n",
    "arr[-1] = np.array(new_values) \n",
    "# arr[-1] = np.array([1,2,3,4,5])\n",
    "\n",
    "print(\"Array after change last row \\n\",arr)"
   ]
  },
  {
   "cell_type": "markdown",
   "metadata": {},
   "source": [
    "Write a python function to find the minimum and maximum elements\n",
    "in each and every row of numpy array, and create numpy array with\n",
    "filling random integer value, and shape of array should be (12,5),\n",
    "For e.g. I took first row from\n",
    "2D array [21,4,3,62,52,1] so 1 is minimum and 52 is maximum in this\n",
    "row. So your python function should return this output for each and\n",
    "every row"
   ]
  },
  {
   "cell_type": "code",
   "execution_count": 36,
   "metadata": {
    "metadata": {}
   },
   "outputs": [
    {
     "name": "stdout",
     "output_type": "stream",
     "text": [
      "Max element in Row  [80 29 26 95 37]  is :  95\n",
      "Max element in Row  [55 37 96 75 51]  is :  96\n",
      "Max element in Row  [39 11 17 44 10]  is :  44\n",
      "Max element in Row  [58 40 39 79 63]  is :  79\n",
      "Max element in Row  [45  4 75 68 95]  is :  95\n",
      "Max element in Row  [17 52 32 40 75]  is :  75\n",
      "Max element in Row  [86 85 95 83 39]  is :  95\n",
      "Max element in Row  [37 11 73 88 43]  is :  88\n",
      "Max element in Row  [50 88  7 50 29]  is :  88\n",
      "Max element in Row  [ 7 97 40 23 64]  is :  97\n",
      "Max element in Row  [13 13 95 50 34]  is :  95\n",
      "Max element in Row  [29 35 78 76 26]  is :  78\n",
      "\n",
      "\n",
      "Min element in Row  [80 29 26 95 37]  is :  26\n",
      "Min element in Row  [55 37 96 75 51]  is :  37\n",
      "Min element in Row  [39 11 17 44 10]  is :  10\n",
      "Min element in Row  [58 40 39 79 63]  is :  39\n",
      "Min element in Row  [45  4 75 68 95]  is :  4\n",
      "Min element in Row  [17 52 32 40 75]  is :  17\n",
      "Min element in Row  [86 85 95 83 39]  is :  39\n",
      "Min element in Row  [37 11 73 88 43]  is :  11\n",
      "Min element in Row  [50 88  7 50 29]  is :  7\n",
      "Min element in Row  [ 7 97 40 23 64]  is :  7\n",
      "Min element in Row  [13 13 95 50 34]  is :  13\n",
      "Min element in Row  [29 35 78 76 26]  is :  26\n"
     ]
    }
   ],
   "source": [
    "arr1 = np.random.randint(1,100,60).reshape(12,5)\n",
    "\n",
    "for i in arr1 :\n",
    "    max = i[0]\n",
    "    for j in i :\n",
    "        if j > max :\n",
    "            max = j\n",
    "    print(\"Max element in Row \" ,i ,\" is : \", max)\n",
    "print(\"\\n\")\n",
    "\n",
    "for i in arr1 :\n",
    "    min = i[0]\n",
    "    for j in i :\n",
    "        if j < min :\n",
    "            min = j\n",
    "    print(\"Min element in Row \" ,i ,\" is : \", min)"
   ]
  }
 ],
 "metadata": {
  "kernelspec": {
   "display_name": "Python 3",
   "language": "python",
   "name": "python3"
  },
  "language_info": {
   "codemirror_mode": {
    "name": "ipython",
    "version": 3
   },
   "file_extension": ".py",
   "mimetype": "text/x-python",
   "name": "python",
   "nbconvert_exporter": "python",
   "pygments_lexer": "ipython3",
   "version": "3.12.3"
  }
 },
 "nbformat": 4,
 "nbformat_minor": 2
}
