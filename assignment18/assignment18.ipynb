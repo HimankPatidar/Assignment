{
 "cells": [
  {
   "cell_type": "markdown",
   "metadata": {},
   "source": [
    "Write a Python function called merge_lists that takes two lists as input\n",
    "and returns a new list containing all elements from both input lists,\n",
    "with duplicates removed"
   ]
  },
  {
   "cell_type": "code",
   "execution_count": 2,
   "metadata": {},
   "outputs": [
    {
     "name": "stdout",
     "output_type": "stream",
     "text": [
      "[1, 2, 3, 4, 5, 6, 7, 8, 9]\n"
     ]
    }
   ],
   "source": [
    "def merge_lists(lst1, lst2) :\n",
    "    return list(set(lst1 + lst2)) \n",
    "\n",
    "\n",
    "lst1 = [1,2,3,4,5] \n",
    "lst2 = [4,5,6,7,8,9]\n",
    "\n",
    "list3 =  merge_lists(lst1, lst2)\n",
    "print(list3)"
   ]
  },
  {
   "cell_type": "markdown",
   "metadata": {},
   "source": [
    " Write a Python function called list_intersection that takes two lists as\n",
    "input and returns a new list containing elements that are common to\n",
    "both input lists.\n"
   ]
  },
  {
   "cell_type": "code",
   "execution_count": 9,
   "metadata": {},
   "outputs": [
    {
     "name": "stdout",
     "output_type": "stream",
     "text": [
      "Comman element of lists: [3, 4, 5]\n"
     ]
    }
   ],
   "source": [
    "def list_intersection(list1, list2):\n",
    "    comman_element = []\n",
    "    for i in list1:\n",
    "        if i in list2 and i not in comman_element:\n",
    "            comman_element.append(i)\n",
    "    return comman_element\n",
    "\n",
    "# Example usage:\n",
    "list1 = [1, 2, 3, 4, 5]\n",
    "list2 = [3, 4, 5, 6, 7]\n",
    "intersection = list_intersection(list1, list2)\n",
    "print(\"Comman element of lists:\", intersection)\n"
   ]
  }
 ],
 "metadata": {
  "kernelspec": {
   "display_name": "Python 3",
   "language": "python",
   "name": "python3"
  },
  "language_info": {
   "codemirror_mode": {
    "name": "ipython",
    "version": 3
   },
   "file_extension": ".py",
   "mimetype": "text/x-python",
   "name": "python",
   "nbconvert_exporter": "python",
   "pygments_lexer": "ipython3",
   "version": "3.12.3"
  }
 },
 "nbformat": 4,
 "nbformat_minor": 2
}
