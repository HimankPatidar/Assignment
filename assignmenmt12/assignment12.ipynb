{
 "cells": [
  {
   "cell_type": "markdown",
   "metadata": {},
   "source": [
    "Create a numpy array with filling random values, and shape of array\n",
    "should be (12,5), and pass this array from a user-defined function, and\n",
    "function should be able to return average, minimum, maximum, and\n",
    "no. of evens in your last row.\n",
    "For e.g. consider this is last row [41,52,63,96,85],\n",
    "Output:\n",
    "Average -> 67.4\n",
    "Minimum -> 41\n",
    "Maximum -> 96\n",
    "No. of evens -> 2"
   ]
  },
  {
   "cell_type": "code",
   "execution_count": 2,
   "metadata": {},
   "outputs": [],
   "source": [
    "import numpy as np"
   ]
  },
  {
   "cell_type": "code",
   "execution_count": 11,
   "metadata": {},
   "outputs": [
    {
     "name": "stdout",
     "output_type": "stream",
     "text": [
      "[[62 61 34 48 35]\n",
      " [17  2 21 13 80]\n",
      " [ 8 25 53 60 47]\n",
      " [83 62 50 48 28]\n",
      " [32 15 27 81 51]\n",
      " [33  1 24 36 90]\n",
      " [66 93 37 15  8]\n",
      " [51 96 92 11 63]\n",
      " [78 16 73  7 39]\n",
      " [40 73 37 95 31]\n",
      " [39 93 10 40 87]\n",
      " [34  4 91 81 98]]\n",
      "Average of last row:  61.6\n",
      "Max element of last row:  98\n",
      "Min element of last row:  4\n",
      "No. of even in last row:  3\n"
     ]
    }
   ],
   "source": [
    "\n",
    "def array_state():\n",
    "    arr = np.random.randint(1, 100, 60).reshape(12, 5)\n",
    "    print(arr)\n",
    "\n",
    "    last_row = arr[-1]\n",
    "\n",
    "    avg = np.mean(last_row)\n",
    "    max_val = np.max(last_row)\n",
    "    min_val = np.min(last_row)\n",
    "    even_count = np.sum(last_row % 2 == 0)\n",
    "\n",
    "    return avg, max_val, min_val, even_count\n",
    "\n",
    "\n",
    "avg, max_val, min_val, even_count = array_state()\n",
    "\n",
    "# Print the results\n",
    "print(\"Average of last row: \", avg)\n",
    "print(\"Max element of last row: \", max_val)\n",
    "print(\"Min element of last row: \", min_val)\n",
    "print(\"No. of even in last row: \", even_count)\n"
   ]
  },
  {
   "cell_type": "markdown",
   "metadata": {},
   "source": [
    "Let’s consider we have an array, e.g.\n",
    "[[1 2 3 ],\n",
    "[4 5 6 ],\n",
    "[7 8 9 ]]\n",
    "And apply slicing techniques to get reversed order elements of all the rows,\n",
    "like this -> [[3 2 1],\n",
    " [6 5 4],\n",
    " [9 8 7]]\n"
   ]
  },
  {
   "cell_type": "code",
   "execution_count": 39,
   "metadata": {},
   "outputs": [
    {
     "name": "stdout",
     "output_type": "stream",
     "text": [
      "Original Array : \n",
      " [[4 9 3]\n",
      " [2 2 1]\n",
      " [1 2 9]]\n",
      "Reversed Array : \n",
      " [[3 9 4]\n",
      " [1 2 2]\n",
      " [9 2 1]]\n"
     ]
    }
   ],
   "source": [
    "arr2 = np.random.randint(1,10,(3,3))\n",
    "print(\"Original Array : \\n\",arr2)\n",
    "\n",
    "reversed_array = arr2[0:3, ::-1]\n",
    "\n",
    "print(\"Reversed Array : \\n\",reversed_array)"
   ]
  }
 ],
 "metadata": {
  "kernelspec": {
   "display_name": "Python 3",
   "language": "python",
   "name": "python3"
  },
  "language_info": {
   "codemirror_mode": {
    "name": "ipython",
    "version": 3
   },
   "file_extension": ".py",
   "mimetype": "text/x-python",
   "name": "python",
   "nbconvert_exporter": "python",
   "pygments_lexer": "ipython3",
   "version": "3.12.3"
  }
 },
 "nbformat": 4,
 "nbformat_minor": 2
}
