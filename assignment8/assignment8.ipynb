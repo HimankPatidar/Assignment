{
 "cells": [
  {
   "cell_type": "markdown",
   "metadata": {},
   "source": [
    "Assignment - 8"
   ]
  },
  {
   "cell_type": "markdown",
   "metadata": {},
   "source": [
    "Write a Python program to calculate the factorial of a non-negative integer entered by the\n",
    "user"
   ]
  },
  {
   "cell_type": "code",
   "execution_count": 9,
   "metadata": {},
   "outputs": [
    {
     "name": "stdout",
     "output_type": "stream",
     "text": [
      "Factorial of 5 is 120\n"
     ]
    }
   ],
   "source": [
    "def Factorial() :\n",
    "    n = int(input(\"Enter a number : \"))\n",
    "    if n < 0:\n",
    "        print(\"Enter a positive number\")\n",
    "        return\n",
    "\n",
    "    fact = 1\n",
    "    for i in range(1, n + 1) :\n",
    "        fact *= i\n",
    "\n",
    "    print(\"Factorial of\", n, \"is\", fact)\n",
    "\n",
    "Factorial()\n"
   ]
  },
  {
   "cell_type": "markdown",
   "metadata": {},
   "source": [
    "Write a Python program to read a text file line by line and display the number of words in\n",
    "each line. Create a dome text file by it yourself for this assignment"
   ]
  },
  {
   "cell_type": "code",
   "execution_count": 25,
   "metadata": {},
   "outputs": [
    {
     "name": "stdout",
     "output_type": "stream",
     "text": [
      "['Hello', 'Python', 'Devloper', 'Welcome', 'to', 'Team']\n",
      "6\n",
      "['Hello', 'World']\n",
      "2\n"
     ]
    }
   ],
   "source": [
    "file_path = \"file.txt\"\n",
    "\n",
    "def count_words(file_path) :\n",
    "    try :\n",
    "        with open(file_path, 'r') as file :\n",
    "            for line in file :\n",
    "                words = line.split()\n",
    "                print(words)\n",
    "                print(len(words))\n",
    "    except FileNotFoundError as e :\n",
    "        print(\"File not found\")\n",
    "\n",
    "\n",
    "count_words(file_path)       "
   ]
  },
  {
   "cell_type": "markdown",
   "metadata": {},
   "source": [
    "Write a Python function to find the maximum and minimum numbers in a given list of\n",
    "numbers without using in built functions."
   ]
  },
  {
   "cell_type": "code",
   "execution_count": 15,
   "metadata": {},
   "outputs": [
    {
     "name": "stdout",
     "output_type": "stream",
     "text": [
      "Minimum number on list :  11\n",
      "Maximum number on list :  90\n"
     ]
    }
   ],
   "source": [
    "\n",
    "list1 = [11,13,15,21,51,24,90,14,16,17,18,19,20]\n",
    "min = list1[0]\n",
    "max = list1[0]\n",
    "\n",
    "for i in list1 :\n",
    "    if i< min :\n",
    "        min = i\n",
    "\n",
    "    if i>max :\n",
    "        max =i\n",
    "\n",
    "print(\"Minimum number on list : \" , min)\n",
    "print(\"Maximum number on list : \" , max)"
   ]
  },
  {
   "cell_type": "markdown",
   "metadata": {},
   "source": [
    "Write a Python program to find the longest word in a given list of words. If there are\n",
    "multiple words with the same length, return the first one encountered word"
   ]
  },
  {
   "cell_type": "code",
   "execution_count": 22,
   "metadata": {},
   "outputs": [
    {
     "name": "stdout",
     "output_type": "stream",
     "text": [
      "The longest word is :  Devloper\n"
     ]
    }
   ],
   "source": [
    "list2 = ['Hello', 'Python', 'Devloper', 'Welcome', 'to', 'Team', 'Manager', 'project']\n",
    "\n",
    "def longest_word() :\n",
    "    word = list2[0]\n",
    "    for i in list2 :\n",
    "        if len(i) > len(word) :\n",
    "            word = i\n",
    "    return word\n",
    "\n",
    "print(\"The longest word is : \" ,longest_word())\n"
   ]
  }
 ],
 "metadata": {
  "kernelspec": {
   "display_name": "Python 3",
   "language": "python",
   "name": "python3"
  },
  "language_info": {
   "codemirror_mode": {
    "name": "ipython",
    "version": 3
   },
   "file_extension": ".py",
   "mimetype": "text/x-python",
   "name": "python",
   "nbconvert_exporter": "python",
   "pygments_lexer": "ipython3",
   "version": "3.12.3"
  }
 },
 "nbformat": 4,
 "nbformat_minor": 2
}
