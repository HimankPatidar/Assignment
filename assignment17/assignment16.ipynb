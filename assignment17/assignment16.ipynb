{
 "cells": [
  {
   "cell_type": "markdown",
   "metadata": {},
   "source": [
    "Write a program to find average of all the even numbers, and\n",
    "odd number that are present in the list. And also your program\n",
    "shold be return no. of evens and odd are present in this list List\n",
    "for your reference\n",
    "lst = [25,41,85,96,35,64,75,9,12,21,32,23,25,56]"
   ]
  },
  {
   "cell_type": "code",
   "execution_count": 4,
   "metadata": {},
   "outputs": [
    {
     "name": "stdout",
     "output_type": "stream",
     "text": [
      "The average of even numbers is :  52.0\n",
      "The average of odd numbers is :  37.666666666666664\n",
      "Number of Even numbers :  5\n",
      "Number of odd numbers :  9\n"
     ]
    }
   ],
   "source": [
    "def calculate_averages(lst):\n",
    "    even_count = 0\n",
    "    even_sum = 0\n",
    "    odd_sum = 0\n",
    "    odd_count = 0\n",
    "\n",
    "    for i in lst:\n",
    "        if (i % 2 == 0):\n",
    "            even_count += 1\n",
    "            even_sum += i\n",
    "        else:\n",
    "            odd_count += 1\n",
    "            odd_sum += i\n",
    "\n",
    "    if even_count != 0:\n",
    "        print(\"The average of even numbers is : \", even_sum / even_count)\n",
    "    else:\n",
    "        print(\"There is no even number in the list\")\n",
    "\n",
    "    if odd_count != 0:\n",
    "        print(\"The average of odd numbers is : \", odd_sum / odd_count)\n",
    "    else:\n",
    "        print(\"There is no odd number in the list\")\n",
    "\n",
    "    print(\"Number of Even numbers : \", even_count)\n",
    "    print(\"Number of odd numbers : \", odd_count)\n",
    "\n",
    "# Call the function with your list\n",
    "lst = [25,41,85,96,35,64,75,9,12,21,32,23,25,56]\n",
    "calculate_averages(lst)"
   ]
  },
  {
   "cell_type": "markdown",
   "metadata": {},
   "source": [
    "Write a program to find the target element from the list, with\n",
    "linear search and Binary Search.\n"
   ]
  },
  {
   "cell_type": "code",
   "execution_count": 23,
   "metadata": {},
   "outputs": [
    {
     "name": "stdout",
     "output_type": "stream",
     "text": [
      "linear_search : \n",
      "Index of element  35  :  4\n",
      "binary_search : \n",
      "Index of element  35  :  7\n"
     ]
    }
   ],
   "source": [
    "lst = [25, 41, 85, 96, 35, 64, 75, 9, 12, 21, 32, 23, 25, 56]\n",
    "target = 35\n",
    "\n",
    "def linear_search(lst, target):\n",
    "    for i in range(len(lst)):\n",
    "        if lst[i] == target:\n",
    "            return i\n",
    "    return -1\n",
    "\n",
    "def binary_search(lst, target):\n",
    "    lst.sort()\n",
    "    low = 0\n",
    "    high = len(lst) - 1\n",
    "\n",
    "    while low <= high:\n",
    "        mid = (low + high) // 2\n",
    "        if lst[mid] == target:\n",
    "            return mid\n",
    "        elif lst[mid] < target:\n",
    "            low = mid + 1\n",
    "        else:\n",
    "            high = mid - 1\n",
    "    return -1\n",
    "\n",
    "linear_result = linear_search(lst, target)\n",
    "binary_result = binary_search(lst, target)\n",
    "\n",
    "print(\"linear_search : \")\n",
    "print(\"Index of element \", target, \" : \", linear_result)\n",
    "\n",
    "print(\"binary_search : \")\n",
    "print(\"Index of element \", target, \" : \", binary_result)\n"
   ]
  },
  {
   "cell_type": "markdown",
   "metadata": {},
   "source": [
    "Learn about list comprehension and write a program to\n",
    "generate a list of square element from this given list and also\n",
    "try to filter all the even numbers from the given list using list\n",
    "comprehension.\n",
    "lst = [25,41,85,96,35,64,75,9,12,21,32,23,25,56]"
   ]
  },
  {
   "cell_type": "code",
   "execution_count": 25,
   "metadata": {},
   "outputs": [
    {
     "name": "stdout",
     "output_type": "stream",
     "text": [
      "Squares of the elements in the list :  [625, 1681, 7225, 9216, 1225, 4096, 5625, 81, 144, 441, 1024, 529, 625, 3136]\n",
      "Even numbers in the list :  [96, 64, 12, 32, 56]\n"
     ]
    }
   ],
   "source": [
    "lst = [25,41,85,96,35,64,75,9,12,21,32,23,25,56]\n",
    "\n",
    "\n",
    "squares = [x**2 for x in lst]\n",
    "print(\"Squares of the elements in the list : \", squares)\n",
    "\n",
    "\n",
    "even = [x for x in lst if x % 2== 0]\n",
    "print(\"Even numbers in the list : \", even)"
   ]
  }
 ],
 "metadata": {
  "kernelspec": {
   "display_name": "Python 3",
   "language": "python",
   "name": "python3"
  },
  "language_info": {
   "codemirror_mode": {
    "name": "ipython",
    "version": 3
   },
   "file_extension": ".py",
   "mimetype": "text/x-python",
   "name": "python",
   "nbconvert_exporter": "python",
   "pygments_lexer": "ipython3",
   "version": "3.12.3"
  }
 },
 "nbformat": 4,
 "nbformat_minor": 2
}
