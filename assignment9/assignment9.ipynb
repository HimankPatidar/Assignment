{
 "cells": [
  {
   "cell_type": "markdown",
   "metadata": {},
   "source": [
    "Asssignment - 9"
   ]
  },
  {
   "cell_type": "markdown",
   "metadata": {},
   "source": [
    "Write a Python method in Oop called “calculate_area” that takes the radius of a\n",
    "circle as input and returns the area of the circle, write program using Oop."
   ]
  },
  {
   "cell_type": "code",
   "execution_count": 1,
   "metadata": {},
   "outputs": [
    {
     "name": "stdout",
     "output_type": "stream",
     "text": [
      "Area of the circle is : 490.625\n"
     ]
    }
   ],
   "source": [
    "class Circle :\n",
    "    def __init__(self, radius) :\n",
    "        self.radius = radius\n",
    "    def calculate_area(self) :\n",
    "        return 3.14 * self.radius ** 2\n",
    "    \n",
    "radius = float(input(\"Enter the radius of the circle :\"))\n",
    "circle = Circle(radius)\n",
    "area = circle.calculate_area()\n",
    "print(\"Area of the circle is :\", area)"
   ]
  },
  {
   "cell_type": "markdown",
   "metadata": {},
   "source": [
    "Write a Python method in Oop called “calculate_discount” that calculates the\n",
    "final price of an item after applying a discount percentage. The function should\n",
    "take the original price and the discount percentage as inputs.\n"
   ]
  },
  {
   "cell_type": "code",
   "execution_count": 2,
   "metadata": {},
   "outputs": [
    {
     "name": "stdout",
     "output_type": "stream",
     "text": [
      "The final price is : 1275.0\n"
     ]
    }
   ],
   "source": [
    "class Item :\n",
    "    def __init__(self, original_price, discount_percentage) :\n",
    "        self.original_price = original_price \n",
    "        self.discount_percentage = discount_percentage\n",
    "\n",
    "    def calculate_discount(self) :\n",
    "        discount_amount = self.original_price * self.discount_percentage / 100\n",
    "        final_price = self.original_price - discount_amount\n",
    "        return final_price\n",
    "    \n",
    "original_price = float(input('Enter the original price :'))\n",
    "discount_percentage = float(input('Enter the discount percentage :'))\n",
    "item = Item(original_price, discount_percentage)\n",
    "final_price = item.calculate_discount()\n",
    "print('The final price is :', final_price)"
   ]
  },
  {
   "cell_type": "markdown",
   "metadata": {},
   "source": [
    "Write a method in Oop named “count_vowels” that takes a string as input and\n",
    "returns the count of vowels (both uppercase and lowercase) in the string."
   ]
  },
  {
   "cell_type": "code",
   "execution_count": 6,
   "metadata": {},
   "outputs": [
    {
     "name": "stdout",
     "output_type": "stream",
     "text": [
      "Number of vowels in the string are : 2\n"
     ]
    }
   ],
   "source": [
    "class Count :\n",
    "    def __init__(self, string) :\n",
    "        self.string = string\n",
    "\n",
    "    def count_vowels(self): \n",
    "        vowels = 'aeoiuAEIOU'\n",
    "        count = 0\n",
    "        for i in self.string :\n",
    "            if i in vowels :\n",
    "                count += 1\n",
    "        return count\n",
    "\n",
    "\n",
    "string = input('Enter the string :')\n",
    "string_obj = Count(string)\n",
    "\n",
    "print('Number of vowels in the string are :', string_obj.count_vowels())"
   ]
  }
 ],
 "metadata": {
  "kernelspec": {
   "display_name": "Python 3",
   "language": "python",
   "name": "python3"
  },
  "language_info": {
   "codemirror_mode": {
    "name": "ipython",
    "version": 3
   },
   "file_extension": ".py",
   "mimetype": "text/x-python",
   "name": "python",
   "nbconvert_exporter": "python",
   "pygments_lexer": "ipython3",
   "version": "3.12.3"
  }
 },
 "nbformat": 4,
 "nbformat_minor": 2
}
