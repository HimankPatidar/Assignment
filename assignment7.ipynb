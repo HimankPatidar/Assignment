{
 "cells": [
  {
   "cell_type": "markdown",
   "metadata": {},
   "source": [
    " Create folder Named “JECRC” and put multiple images, text and pdf\n",
    "files inside the JECRC folder, after that you will write a python\n",
    "program to filter out all the images, text and pdf files in separate folder\n",
    "like “image_folder” , “text_folder” and “pdf_folder”, your python\n",
    "program will be able to filter out all these file and move into the\n",
    "corresponding folders.\n",
    "You can take reference from internet to complete this task\n",
    "Hint:\n",
    "Supporting library to complete this project: os , shutil"
   ]
  },
  {
   "cell_type": "code",
   "execution_count": 3,
   "metadata": {},
   "outputs": [
    {
     "name": "stdout",
     "output_type": "stream",
     "text": [
      "Files are filtered successfully.\n"
     ]
    }
   ],
   "source": [
    "import os\n",
    "import shutil\n",
    "\n",
    "jecrc_folder = \"../JECRC\"\n",
    "image_folder = \"image_folder\"\n",
    "pdf_folder = \"pdf_folder\"\n",
    "text_folder = \"text_folder\"\n",
    "\n",
    "os.makedirs(image_folder,  exist_ok = True)\n",
    "os.makedirs(pdf_folder,  exist_ok = True)\n",
    "os.makedirs(text_folder,  exist_ok = True)\n",
    "\n",
    "def filter_files(folder) :\n",
    "    for file in os.listdir(folder) :\n",
    "        src = os.path.join(folder, file)\n",
    "        if os.path.isfile(src):\n",
    "            if file.lower().endswith(('.png', '.jpg', '.jpeg')):\n",
    "                shutil.move(src, os.path.join(image_folder, file))\n",
    "            elif file.lower().endswith(('.txt', '.doc', '.docx')):\n",
    "                shutil.move(src, os.path.join(text_folder, file))\n",
    "            elif file.lower().endswith('.pdf'):\n",
    "                shutil.move(src, os.path.join(pdf_folder, file))\n",
    "\n",
    "\n",
    "filter_files(jecrc_folder)\n",
    "print(\"Files are filtered successfully.\")\n"
   ]
  },
  {
   "cell_type": "code",
   "execution_count": 8,
   "metadata": {},
   "outputs": [
    {
     "name": "stdout",
     "output_type": "stream",
     "text": [
      "Success ../JECRC\\file.txt\n",
      "File read Hello World\n",
      "File exists\n",
      "File written 11\n",
      "File Deleted\n",
      "Subdirectory path : ../JECRC\\sub_dir\n",
      "Subdirectory created\n",
      "Subdirectory exists\n"
     ]
    }
   ],
   "source": [
    "import os\n",
    "\n",
    "file_path = os.path.join(\"../JECRC\", \"file.txt\")\n",
    "\n",
    "print(\"Success\", file_path)\n",
    "\n",
    "with open(file_path, \"r\") as file:\n",
    "    content = file.read()\n",
    "    print(\"File read\", content)\n",
    "\n",
    "if os.path.exists(file_path) :\n",
    "    print(\"File exists\")\n",
    "\n",
    "else:\n",
    "    print(\"File does not exist\")\n",
    "\n",
    "new_file = \"new_file.txt\"\n",
    "new_file_path = os.path.join(\"../JECRC\", new_file)\n",
    "\n",
    "with open(new_file_path, \"w\") as file:\n",
    "    write =  file.write(\"Hello World\")\n",
    "    print(\"File written\", write)\n",
    "\n",
    "if os.path.exists(new_file_path) :\n",
    "    os.remove(new_file_path)\n",
    "    print(\"File Deleted\")\n",
    "else :\n",
    "    print(\"File does not exist\")\n",
    "\n",
    "\n",
    "sub_dir = \"sub_dir\"\n",
    "sub_dir_path = os.path.join(\"../JECRC\", sub_dir)\n",
    "print(\"Subdirectory path :\", sub_dir_path) \n",
    "\n",
    "os.makedirs(sub_dir_path, exist_ok = True)\n",
    "print(\"Subdirectory created\")\n",
    "\n",
    "if os.path.exists(sub_dir_path) :\n",
    "    print(\"Subdirectory exists\")\n",
    "\n",
    "else:\n",
    "    print(\"Subdirectory does not exist\")"
   ]
  },
  {
   "cell_type": "code",
   "execution_count": 9,
   "metadata": {},
   "outputs": [
    {
     "name": "stdout",
     "output_type": "stream",
     "text": [
      "[3, 4]\n"
     ]
    }
   ],
   "source": [
    "my_list = [1, 2, 3, 4, 5] \n",
    "print(my_list[2:4])"
   ]
  }
 ],
 "metadata": {
  "kernelspec": {
   "display_name": "Python 3",
   "language": "python",
   "name": "python3"
  },
  "language_info": {
   "codemirror_mode": {
    "name": "ipython",
    "version": 3
   },
   "file_extension": ".py",
   "mimetype": "text/x-python",
   "name": "python",
   "nbconvert_exporter": "python",
   "pygments_lexer": "ipython3",
   "version": "3.12.3"
  }
 },
 "nbformat": 4,
 "nbformat_minor": 2
}
