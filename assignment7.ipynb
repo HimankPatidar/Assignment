{
 "cells": [
  {
   "cell_type": "markdown",
   "metadata": {},
   "source": [
    " Create folder Named “JECRC” and put multiple images, text and pdf\n",
    "files inside the JECRC folder, after that you will write a python\n",
    "program to filter out all the images, text and pdf files in separate folder\n",
    "like “image_folder” , “text_folder” and “pdf_folder”, your python\n",
    "program will be able to filter out all these file and move into the\n",
    "corresponding folders.\n",
    "You can take reference from internet to complete this task\n",
    "Hint:\n",
    "Supporting library to complete this project: os , shutil"
   ]
  },
  {
   "cell_type": "code",
   "execution_count": 3,
   "metadata": {},
   "outputs": [
    {
     "name": "stdout",
     "output_type": "stream",
     "text": [
      "Files are filtered successfully.\n"
     ]
    }
   ],
   "source": [
    "import os\n",
    "import shutil\n",
    "\n",
    "jecrc_folder = \"../JECRC\"\n",
    "image_folder = \"image_folder\"\n",
    "pdf_folder = \"pdf_folder\"\n",
    "text_folder = \"text_folder\"\n",
    "\n",
    "os.makedirs(image_folder,  exist_ok = True)\n",
    "os.makedirs(pdf_folder,  exist_ok = True)\n",
    "os.makedirs(text_folder,  exist_ok = True)\n",
    "\n",
    "def filter_files(folder) :\n",
    "    for file in os.listdir(folder) :\n",
    "        src = os.path.join(folder, file)\n",
    "        if os.path.isfile(src):\n",
    "            if file.lower().endswith(('.png', '.jpg', '.jpeg')):\n",
    "                shutil.move(src, os.path.join(image_folder, file))\n",
    "            elif file.lower().endswith(('.txt', '.doc', '.docx')):\n",
    "                shutil.move(src, os.path.join(text_folder, file))\n",
    "            elif file.lower().endswith('.pdf'):\n",
    "                shutil.move(src, os.path.join(pdf_folder, file))\n",
    "\n",
    "\n",
    "filter_files(jecrc_folder)\n",
    "print(\"Files are filtered successfully.\")\n"
   ]
  }
 ],
 "metadata": {
  "kernelspec": {
   "display_name": "Python 3",
   "language": "python",
   "name": "python3"
  },
  "language_info": {
   "codemirror_mode": {
    "name": "ipython",
    "version": 3
   },
   "file_extension": ".py",
   "mimetype": "text/x-python",
   "name": "python",
   "nbconvert_exporter": "python",
   "pygments_lexer": "ipython3",
   "version": "3.12.3"
  }
 },
 "nbformat": 4,
 "nbformat_minor": 2
}
